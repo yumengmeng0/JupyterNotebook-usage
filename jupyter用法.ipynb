{
 "cells": [
  {
   "attachments": {},
   "cell_type": "markdown",
   "metadata": {
    "collapsed": false
   },
   "source": [
    "# jupyternotebook添加latex\n",
    "# Markdown数学公式\n",
    "\n",
    "$行内$ \n",
    "\n",
    "$$ 块 $$\n",
    "\n",
    "\n",
    "    $$l(y,y') = \\begin{cases}|y-y'| -\\frac{\\sigma}{2} & \\text{ if } |y-y'| > \\sigma \\\\ \\frac{1}{2 \\sigma} (y-y')^2 & \\text{ 其它情况}\\end{cases}$$\n",
    "\n",
    "\n",
    "\n",
    "MarkdownTOC\n",
    "\n",
    "TOC 全称为 Table of Content，列出全部标题"
   ]
  },
  {
   "attachments": {},
   "cell_type": "markdown",
   "metadata": {
    "collapsed": false
   },
   "source": [
    "$$y = \\begin{cases} 0 \\quad(b + w_1x_1 + w_2x_2) \\\\ 1 \\quad(b + w_1x_1 + w_2x_2) \\end{cases}$$\n",
    "\n",
    "$b$是偏置参数，控制神经元被激活的容易程度\n",
    "$w_1$和$w_2$表示各个信号权重的参数，控制各个信号的重要性\n"
   ]
  },
  {
   "attachments": {},
   "cell_type": "markdown",
   "metadata": {
    "collapsed": false
   },
   "source": [
    "\\frac{}{} 分数 \n",
    "\\begin{cases} 0 \\quad(b + w_1x_1 + w_2x_2) \\\\ 1 \\quad(b + w_1x_1 + w_2x_2) \\end{cases} 两行的大括号"
   ]
  },
  {
   "cell_type": "code",
   "execution_count": null,
   "metadata": {
    "vscode": {
     "languageId": "plaintext"
    }
   },
   "outputs": [],
   "source": [
    "对数是最基本数学符号，无需别的宏包(amsmath)也可以正常使用。\n",
    "\n",
    "格式：\\log_ax\n",
    "\n",
    "效果：log以a为底，以x为真数。\n",
    "\n",
    "\n",
    "补充1：\\ln x\n",
    "\n",
    "效果：log以e为底，以x为真数。\n",
    "\n",
    "补充2：\\lg x\n",
    "\n",
    "效果：log以10位底，以x为真数。\n",
    "  \n",
    "  "
   ]
  },
  {
   "cell_type": "code",
   "execution_count": null,
   "metadata": {
    "vscode": {
     "languageId": "plaintext"
    }
   },
   "outputs": [],
   "source": []
  }
 ],
 "metadata": {
  "kernelspec": {
   "display_name": "Python 3",
   "language": "python",
   "name": "python3"
  },
  "language_info": {
   "codemirror_mode": {
    "name": "ipython",
    "version": 2
   },
   "file_extension": ".py",
   "mimetype": "text/x-python",
   "name": "python",
   "nbconvert_exporter": "python",
   "pygments_lexer": "ipython2",
   "version": "2.7.6"
  }
 },
 "nbformat": 4,
 "nbformat_minor": 0
}
